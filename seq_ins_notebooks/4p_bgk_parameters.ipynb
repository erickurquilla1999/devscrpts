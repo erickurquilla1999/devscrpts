{
 "cells": [
  {
   "cell_type": "markdown",
   "metadata": {},
   "source": [
    "# IMPORT PACKEGES"
   ]
  },
  {
   "cell_type": "code",
   "execution_count": 87,
   "metadata": {},
   "outputs": [],
   "source": [
    "import numpy as np\n",
    "import h5py\n",
    "import glob\n",
    "import matplotlib.pyplot as plt\n",
    "import matplotlib as mpl\n",
    "from matplotlib.ticker import AutoLocator, AutoMinorLocator, LogLocator\n",
    "import ast"
   ]
  },
  {
   "cell_type": "markdown",
   "metadata": {},
   "source": [
    "# PLOT SETTINGS"
   ]
  },
  {
   "cell_type": "code",
   "execution_count": 88,
   "metadata": {},
   "outputs": [],
   "source": [
    "# Font settings\n",
    "mpl.rcParams['font.size'] = 22\n",
    "mpl.rcParams['font.family'] = 'serif'\n",
    "mpl.rc('text', usetex=True)\n",
    "\n",
    "# Tick settings\n",
    "mpl.rcParams['xtick.major.width'] = 2\n",
    "mpl.rcParams['xtick.major.pad'] = 8\n",
    "mpl.rcParams['xtick.minor.size'] = 4\n",
    "\n",
    "mpl.rcParams['xtick.minor.width'] = 2\n",
    "mpl.rcParams['ytick.major.size'] = 7\n",
    "mpl.rcParams['ytick.major.width'] = 2\n",
    "mpl.rcParams['ytick.minor.size'] = 4\n",
    "mpl.rcParams['ytick.minor.width'] = 2\n",
    "\n",
    "# Axis linewidth\n",
    "mpl.rcParams['axes.linewidth'] = 2\n",
    "\n",
    "# Tick direction and enabling ticks on all sides\n",
    "mpl.rcParams['xtick.direction'] = 'in'\n",
    "mpl.rcParams['ytick.direction'] = 'in'\n",
    "mpl.rcParams['xtick.top'] = True\n",
    "mpl.rcParams['ytick.right'] = True\n",
    "\n",
    "# Function to apply custom tick locators and other settings to an Axes object\n",
    "def apply_custom_settings(ax, leg, log_scale_y=False):\n",
    "\n",
    "    if log_scale_y:\n",
    "        # Use LogLocator for the y-axis if it's in log scale\n",
    "        ax.set_yscale('log')\n",
    "        ax.yaxis.set_major_locator(LogLocator(base=10.0))\n",
    "        ax.yaxis.set_minor_locator(LogLocator(base=10.0, subs='auto', numticks=100))\n",
    "    else:\n",
    "        # Use AutoLocator for regular scales\n",
    "        ax.yaxis.set_major_locator(AutoLocator())\n",
    "        ax.yaxis.set_minor_locator(AutoMinorLocator())\n",
    "    \n",
    "    # Apply the AutoLocator for the x-axis\n",
    "    ax.xaxis.set_major_locator(AutoLocator())\n",
    "    ax.xaxis.set_minor_locator(AutoMinorLocator())\n",
    "    \n",
    "    # Legend settings\n",
    "    leg.get_frame().set_edgecolor('w')\n",
    "    leg.get_frame().set_linewidth(0.0)"
   ]
  },
  {
   "cell_type": "markdown",
   "metadata": {},
   "source": [
    "# PHYSICAL CONSTANTS\n"
   ]
  },
  {
   "cell_type": "code",
   "execution_count": 89,
   "metadata": {},
   "outputs": [],
   "source": [
    "class CGSUnitsConst:\n",
    "    eV = 1.60218e-12  # erg\n",
    "\n",
    "class PhysConst:\n",
    "    c = 2.99792458e10  # cm/s\n",
    "    c2 = c * c\n",
    "    c4 = c2 * c2\n",
    "    hbar = 1.05457266e-27  # erg s\n",
    "    hbarc = hbar * c  # erg cm\n",
    "    hc = hbarc*2*np.pi\n",
    "    GF = (1.1663787e-5 / (1e9 * 1e9 * CGSUnitsConst.eV * CGSUnitsConst.eV))\n",
    "    Mp = 1.6726219e-24  # g\n",
    "    sin2thetaW = 0.23122\n",
    "    kB = 1.380658e-16  # erg/K\n",
    "    G = 6.67430e-8 # cm3 g−1 s-2\n",
    "    Msun = 1.9891e33 # g"
   ]
  },
  {
   "cell_type": "markdown",
   "metadata": {},
   "source": [
    "# DIRECTORY PATH"
   ]
  },
  {
   "cell_type": "code",
   "execution_count": 90,
   "metadata": {},
   "outputs": [],
   "source": [
    "###################################################\n",
    "# SEQUENTIAL INSTABILITY\n",
    "directory_path = '/mnt/scratch/erick/ffcei/papersim/sequential_instability/seq_ins_1xem/slow_left_4p' # QKE simulation 1xem\n",
    "# directory_path = '/mnt/scratch/erick/ffcei/papersim/sequential_instability/seq_ins_8xem/slow_left_4p' # QKE simulation 8xem\n",
    "\n",
    "directory_path = '/mnt/scratch/erick/ffcei/papersim/sequential_instability/seq_ins_1xem/sudden_asymmetric_4p' # Sudden simulation 1xem\n",
    "# directory_path = '/mnt/scratch/erick/ffcei/papersim/sequential_instability/seq_ins_8xem/sudden_asymmetric_4p' # Sudden simulation 8xem\n",
    "\n",
    "###################################################\n",
    "# SUBGRID HOMOGENIZATION\n",
    "# directory_path = '/mnt/scratch/erick/ffcei/papersim/subgrid_homogenization/bgk_1xem' # BGK 1xem\n",
    "# directory_path = '/mnt/scratch/erick/ffcei/papersim/subgrid_homogenization/bgk_8xem' # BGK 8xem\n",
    "\n",
    "###################################################\n",
    "# IRREVERSIBILITY\n",
    "# directory_path = '/mnt/scratch/erick/ffcei/papersim/irreversibility/cont_reve_1xem/slow_left_4p_reve_1ra' # QKE + P_T randomize in the transition emission/absorption | 1xem\n",
    "# directory_path = '/mnt/scratch/erick/ffcei/papersim/irreversibility/cont_reve_8xem/slow_left_4p_reve_1ra' # QKE + P_T randomize in the transition emission/absorption | 8xem\n",
    "\n",
    "file_list = glob.glob(directory_path + '/plt*.h5')\n",
    "file_list.sort(key=lambda x: int(x.split('plt')[1].split('.h5')[0]))"
   ]
  },
  {
   "cell_type": "code",
   "execution_count": 91,
   "metadata": {},
   "outputs": [],
   "source": [
    "def read_param_file(filename):\n",
    "    def set_nested(d, k, v):\n",
    "        keys = k.split('.')\n",
    "        for key in keys[:-1]:\n",
    "            d = d.setdefault(key, {})\n",
    "        d[keys[-1]] = v\n",
    "\n",
    "    params = {}\n",
    "    with open(filename, 'r') as f:\n",
    "        for line in f:\n",
    "            line = line.strip()\n",
    "            if not line or line.startswith('#') or '=' not in line:\n",
    "                continue\n",
    "            key, val = map(str.strip, line.split('=', 1))\n",
    "            set_nested(params, key, ast.literal_eval(val))\n",
    "    return params\n",
    "\n",
    "# Usage\n",
    "params = read_param_file(directory_path+\"/inputs_fast_flavor_nonzerok\")"
   ]
  },
  {
   "cell_type": "code",
   "execution_count": 92,
   "metadata": {},
   "outputs": [
    {
     "name": "stdout",
     "output_type": "stream",
     "text": [
      "Initial\n",
      "Ntotal: 6.114200000000001e+34\n",
      "ELNXLN: 3.668500000000001e+34\n",
      "\n",
      "Final\n",
      "Ntotal: 6.114199999999997e+34\n",
      "ELNXLN: 3.668499999999998e+34\n",
      "\n"
     ]
    }
   ],
   "source": [
    "# ['N00_Re', 'N00_Rebar', \n",
    "# 'N01_Im', 'N01_Imbar', \n",
    "# 'N01_Re', 'N01_Rebar', \n",
    "# 'N11_Re', 'N11_Rebar',\n",
    "# 'TrHN', 'Vphase',\n",
    "# 'pos_x', 'pos_y', 'pos_z',\n",
    "# 'pupt', 'pupx', 'pupy', 'pupz',\n",
    "# 'time', 'x', 'y', 'z']\n",
    "\n",
    "time_seconds = np.zeros(len(file_list))\n",
    "Pz_pzpos_av  = np.zeros(len(file_list))\n",
    "Pz_pzneg_av  = np.zeros(len(file_list))\n",
    "Pz_pxpos_av  = np.zeros(len(file_list))\n",
    "Pz_pxneg_av  = np.zeros(len(file_list))\n",
    "\n",
    "N_pzpos_av  = np.zeros((len(file_list),2,2))\n",
    "N_pzneg_av  = np.zeros((len(file_list),2,2))\n",
    "N_pxpos_av  = np.zeros((len(file_list),2,2))\n",
    "N_pxneg_av  = np.zeros((len(file_list),2,2))\n",
    "\n",
    "\n",
    "for i, file_name in enumerate(file_list):\n",
    "\n",
    "    with h5py.File(file_name, 'r') as f:\n",
    "        data_dict = {}\n",
    "        for key in f.keys():\n",
    "            data_dict[key] = np.array(f[key][:])\n",
    "\n",
    "    px = np.array(data_dict['pupx']) \n",
    "    py = np.array(data_dict['pupy'])\n",
    "    pz = np.array(data_dict['pupz'])\n",
    "\n",
    "    mask_pz_pos = (pz>0) & (px==0)\n",
    "    mask_pz_neg = (pz<0) & (px==0)\n",
    "    mask_px_pos = (px>0) & (pz==0)\n",
    "    mask_px_neg = (px<0) & (pz==0)\n",
    "\n",
    "    z = np.array(data_dict['z'])\n",
    "\n",
    "    Nee   = np.array(data_dict['N00_Re'])\n",
    "    Nuu   = np.array(data_dict['N11_Re'])\n",
    "    NeuRe = np.array(data_dict['N01_Re'])\n",
    "    NeuIm = np.array(data_dict['N01_Im'])\n",
    "\n",
    "    if i == 0:\n",
    "        print('Initial')\n",
    "        Ntotal = np.sum(Nee + Nuu)\n",
    "        print('Ntotal:', Ntotal)\n",
    "        ELNXLN = np.sum(Nee - Nuu)\n",
    "        print('ELNXLN:', ELNXLN)\n",
    "        print('')\n",
    "    if i == len(file_list)-1:\n",
    "        print('Final')\n",
    "        Ntotal = np.sum(Nee + Nuu)\n",
    "        print('Ntotal:', Ntotal)\n",
    "        ELNXLN = np.sum(Nee - Nuu)\n",
    "        print('ELNXLN:', ELNXLN)\n",
    "        print('')\n",
    "\n",
    "    Pz = 0.5 * ( Nee - Nuu )\n",
    "    Px = NeuRe\n",
    "    Py = NeuIm\n",
    "\n",
    "    time_seconds[i] = data_dict['time'][0]\n",
    "    Pz_pzpos_av[i]  = np.average(Pz[mask_pz_pos])\n",
    "    Pz_pzneg_av[i]  = np.average(Pz[mask_pz_neg])\n",
    "    Pz_pxpos_av[i]  = np.average(Pz[mask_px_pos])\n",
    "    Pz_pxneg_av[i]  = np.average(Pz[mask_px_neg])\n",
    "\n",
    "    N_pzpos_av[i,0,0] = np.average(np.array(data_dict['N00_Re'])[mask_pz_pos])\n",
    "    N_pzpos_av[i,1,1] = np.average(np.array(data_dict['N11_Re'])[mask_pz_pos])\n",
    "    N_pzpos_av[i,0,1] = np.average(np.sqrt(np.array(data_dict['N01_Re'])[mask_pz_pos]**2+np.array(data_dict['N01_Im'])[mask_pz_pos]))\n",
    "\n",
    "    N_pzneg_av[i,0,0] = np.average(np.array(data_dict['N00_Re'])[mask_pz_neg])\n",
    "    N_pzneg_av[i,1,1] = np.average(np.array(data_dict['N11_Re'])[mask_pz_neg])\n",
    "    N_pzneg_av[i,0,1] = np.average(np.sqrt(np.array(data_dict['N01_Re'])[mask_pz_neg]**2+np.array(data_dict['N01_Im'])[mask_pz_neg]))\n",
    "\n",
    "    N_pxpos_av[i,0,0] = np.average(np.array(data_dict['N00_Re'])[mask_px_pos])\n",
    "    N_pxpos_av[i,1,1] = np.average(np.array(data_dict['N11_Re'])[mask_px_pos])\n",
    "    N_pxpos_av[i,0,1] = np.average(np.sqrt(np.array(data_dict['N01_Re'])[mask_px_pos]**2+np.array(data_dict['N01_Im'])[mask_px_pos]))\n",
    "\n",
    "    N_pxneg_av[i,0,0] = np.average(np.array(data_dict['N00_Re'])[mask_px_neg])\n",
    "    N_pxneg_av[i,1,1] = np.average(np.array(data_dict['N11_Re'])[mask_px_neg])\n",
    "    N_pxneg_av[i,0,1] = np.average(np.sqrt(np.array(data_dict['N01_Re'])[mask_px_neg]**2+np.array(data_dict['N01_Im'])[mask_px_neg]))   "
   ]
  },
  {
   "cell_type": "code",
   "execution_count": 93,
   "metadata": {},
   "outputs": [],
   "source": [
    "# Domain size in 3D index space\n",
    "ncell = params['ncell'] # Number of cells in x, y, z\n",
    "\n",
    "Lx = params['Lx'] # Domain size in x (cm)\n",
    "Ly = params['Ly'] # Domain size in y (cm)\n",
    "Lz = params['Lz'] # Domain size in z (cm)\n",
    "\n",
    "dx = Lx/ncell[0] #cm\n",
    "dy = Ly/ncell[1] #cm\n",
    "dz = Lz/ncell[2] #cm\n",
    "\n",
    "cellvolume = dx*dy*dz # ccm"
   ]
  },
  {
   "cell_type": "markdown",
   "metadata": {},
   "source": [
    "### COMPUTE MU"
   ]
  },
  {
   "cell_type": "code",
   "execution_count": 94,
   "metadata": {},
   "outputs": [],
   "source": [
    "nee_pz_pos_init = 4.8913e+32 # 1/ccm\n",
    "nuu_pz_neg_init = 2.4456e+32 # 1/ccm\n",
    "\n",
    "nee_pzpos = 4.8913e+32 # 1/ccm\n",
    "nxx_pzpos = 0.0 # 1/ccm\n",
    "\n",
    "nee_pzneg = 0.0 # 1/ccm\n",
    "nxx_pzneg = 2.4456e+32 # 1/ccm\n",
    "\n",
    "nee_pxpos = 2.4456e+32 # 1/ccm\n",
    "nxx_pxpos = 0.0 # 1/ccm\n",
    "\n",
    "nee_pxneg = 2.4456e+32 # 1/ccm\n",
    "nxx_pxneg = 0.0 # 1/ccm\n",
    "\n",
    "mu_t = 1.0 / (np.array(np.sqrt(2)*PhysConst.GF*(nee_pzpos+nxx_pzpos+nee_pzneg+nxx_pzneg+nee_pxpos+nxx_pxpos+nee_pxneg+nxx_pxneg))*(PhysConst.c**3*PhysConst.hbar**2)) # seconds\n",
    "mu_l = 1.0 / (np.array(np.sqrt(2)*PhysConst.GF*(nee_pzpos+nxx_pzpos+nee_pzneg+nxx_pzneg+nee_pxpos+nxx_pxpos+nee_pxneg+nxx_pxneg))*(PhysConst.c**2*PhysConst.hbar**2)) # cm\n"
   ]
  },
  {
   "cell_type": "markdown",
   "metadata": {},
   "source": [
    "### COMPUTE SIGMA"
   ]
  },
  {
   "cell_type": "code",
   "execution_count": 95,
   "metadata": {},
   "outputs": [
    {
     "name": "stdout",
     "output_type": "stream",
     "text": [
      "(153, 2, 2)\n",
      "(153, 4, 2, 2)\n"
     ]
    },
    {
     "name": "stderr",
     "output_type": "stream",
     "text": [
      "/tmp/ipykernel_57853/1089624288.py:19: RuntimeWarning: divide by zero encountered in divide\n",
      "  tau = 1.0 / sigma # seconds\n"
     ]
    }
   ],
   "source": [
    "print(N_pzpos_av.shape)\n",
    "N_all = np.stack([N_pzpos_av, N_pzneg_av, N_pxpos_av, N_pxneg_av], axis=1)\n",
    "print(N_all.shape)  # should be (n, 4, 2, 2)\n",
    "\n",
    "GnPos = np.zeros(len(file_list))\n",
    "GnNeg = np.zeros(len(file_list))\n",
    "\n",
    "domega = 4*np.pi / 4\n",
    "\n",
    "for i in range(N_all.shape[0]):\n",
    "    for j in range(N_all.shape[1]):\n",
    "        Gn = np.sqrt(2)*PhysConst.GF*(PhysConst.hbarc**3/PhysConst.hbar) * ( N_all[i,j,0,0] - N_all[i,j,1,1] ) * ( domega / 4*np.pi ) / cellvolume\n",
    "        if (Gn<0):\n",
    "            GnNeg[i] += -1 * Gn\n",
    "        else:\n",
    "            GnPos[i] += Gn\n",
    "\n",
    "sigma = np.sqrt( GnPos * GnNeg ) # 1/seconds\n",
    "tau = 1.0 / sigma # seconds"
   ]
  },
  {
   "cell_type": "code",
   "execution_count": 96,
   "metadata": {},
   "outputs": [
    {
     "name": "stderr",
     "output_type": "stream",
     "text": [
      "No artists with labels found to put in legend.  Note that artists whose label start with an underscore are ignored when legend() is called with no argument.\n"
     ]
    },
    {
     "data": {
      "image/png": "[encoded data removed]",
      "text/plain": [
       "<Figure size 720x432 with 1 Axes>"
      ]
     },
     "metadata": {
      "needs_background": "light"
     },
     "output_type": "display_data"
    },
    {
     "name": "stderr",
     "output_type": "stream",
     "text": [
      "No artists with labels found to put in legend.  Note that artists whose label start with an underscore are ignored when legend() is called with no argument.\n"
     ]
    },
    {
     "data": {
      "image/png": "[encoded data removed]",
      "text/plain": [
       "<Figure size 720x432 with 1 Axes>"
      ]
     },
     "metadata": {
      "needs_background": "light"
     },
     "output_type": "display_data"
    },
    {
     "name": "stderr",
     "output_type": "stream",
     "text": [
      "No artists with labels found to put in legend.  Note that artists whose label start with an underscore are ignored when legend() is called with no argument.\n"
     ]
    },
    {
     "data": {
      "image/png": "[encoded data removed]",
      "text/plain": [
       "<Figure size 720x432 with 1 Axes>"
      ]
     },
     "metadata": {
      "needs_background": "light"
     },
     "output_type": "display_data"
    }
   ],
   "source": [
    "fig, ax = plt.subplots(figsize=(10, 6))\n",
    "ax.plot(time_seconds/mu_t, GnPos*mu_t, color='C0', linestyle='solid', linewidth=3)\n",
    "ax.set_xlabel(r'$t$ ($\\mu$)')\n",
    "ax.set_ylabel(r'$B=\\int G_{\\hat{n}>0}\\,d\\Omega$ ($\\mu$)')\n",
    "# ax.set_yscale('log')\n",
    "leg = ax.legend(framealpha=0.0, ncol=1, fontsize=20)\n",
    "apply_custom_settings(ax, leg, False)\n",
    "plt.savefig(\"./plots/GnPos_\"+directory_path.split('/')[-1]+\".pdf\", bbox_inches='tight')\n",
    "plt.show()\n",
    "plt.close(fig)\n",
    "\n",
    "fig, ax = plt.subplots(figsize=(10, 6))\n",
    "ax.plot(time_seconds/mu_t, -1*GnNeg*mu_t, color='C0', linestyle='solid', linewidth=3)\n",
    "ax.set_xlabel(r'$t$ ($\\mu$)')\n",
    "ax.set_ylabel(r'$A=\\int G_{\\hat{n}<0}\\,d\\Omega$ ($\\mu$)')\n",
    "# ax.set_yscale('log')\n",
    "leg = ax.legend(framealpha=0.0, ncol=1, fontsize=20)\n",
    "apply_custom_settings(ax, leg, False)\n",
    "plt.savefig(\"./plots/GnNeg_\"+directory_path.split('/')[-1]+\".pdf\", bbox_inches='tight')\n",
    "plt.show()\n",
    "plt.close(fig)\n",
    "\n",
    "fig, ax = plt.subplots(figsize=(10, 6))\n",
    "ax.plot(time_seconds/mu_t, sigma*mu_t, color='C0', linestyle='solid', linewidth=3)\n",
    "ax.set_xlabel(r'$t$ ($\\mu$)')\n",
    "ax.set_ylabel(r'$\\sigma=\\sqrt{AB}$ ($\\mu$)')\n",
    "# ax.set_yscale('log')\n",
    "leg = ax.legend(framealpha=0.0, ncol=1, fontsize=20)\n",
    "apply_custom_settings(ax, leg, False)\n",
    "plt.savefig(\"./plots/sigma_\"+directory_path.split('/')[-1]+\".pdf\", bbox_inches='tight')\n",
    "plt.show()\n",
    "plt.close(fig)"
   ]
  },
  {
   "cell_type": "code",
   "execution_count": 97,
   "metadata": {},
   "outputs": [
    {
     "data": {
      "image/png": "[encoded data removed]",
      "text/plain": [
       "<Figure size 720x432 with 1 Axes>"
      ]
     },
     "metadata": {
      "needs_background": "light"
     },
     "output_type": "display_data"
    }
   ],
   "source": [
    "fig, ax = plt.subplots(figsize=(10, 6))\n",
    "ax.plot(time_seconds/mu_t, GnPos*mu_t, color='C0', label=r'$B=\\int G_{\\hat{n}>0}\\,d\\Omega$', linestyle='solid', linewidth=3)\n",
    "ax.plot(time_seconds/mu_t, GnNeg*mu_t, color='C1', label=r'$A=\\int G_{\\hat{n}<0}\\,d\\Omega$', linestyle='solid', linewidth=3)\n",
    "ax.plot(time_seconds/mu_t, sigma*mu_t, color='C2', label=r'$\\sigma=\\sqrt{AB}$', linestyle='solid', linewidth=3)\n",
    "ax.set_xlabel(r'$t$ ($\\mu$)')\n",
    "ax.set_ylabel(r'$A$, $B$, $\\sigma$ ($1/\\mu$)')\n",
    "# ax.set_yscale('log')\n",
    "leg = ax.legend(framealpha=0.0, ncol=1, fontsize=20)\n",
    "apply_custom_settings(ax, leg, False)\n",
    "plt.savefig(\"./plots/ABsigma_\"+directory_path.split('/')[-1]+\".pdf\", bbox_inches='tight')\n",
    "plt.show()\n",
    "plt.close(fig)"
   ]
  },
  {
   "cell_type": "code",
   "execution_count": 100,
   "metadata": {},
   "outputs": [
    {
     "name": "stderr",
     "output_type": "stream",
     "text": [
      "No artists with labels found to put in legend.  Note that artists whose label start with an underscore are ignored when legend() is called with no argument.\n"
     ]
    },
    {
     "data": {
      "image/png": "[encoded data removed]",
      "text/plain": [
       "<Figure size 720x432 with 1 Axes>"
      ]
     },
     "metadata": {
      "needs_background": "light"
     },
     "output_type": "display_data"
    },
    {
     "name": "stdout",
     "output_type": "stream",
     "text": [
      "time_mu_sudden_asymmetric_4p=[0.0, 19.634750083307125, 39.269500166616375, 58.904250249925624, 78.53900033323487, 98.17375041654412, 117.80850049986348, 137.44325058319708, 157.07800066653067, 176.71275074986428, 196.34750083319787, 215.98225091653148, 235.61700099986507, 255.25175108319866, 274.88650116653224, 294.5212512498658, 314.15600133319947, 333.79075141653306, 353.42550149986664, 373.0602515832002, 392.6950016665338, 412.32975174986746, 431.96450183320104, 451.59925191646994, 471.23400199970615, 490.86875208294236, 510.50350216617863, 530.1382522494148, 549.773002332651, 569.4077524158872, 589.0425024991234, 608.6772525823596, 628.3120026655959, 647.9467527488321, 667.5815028320683, 687.2162529153045, 706.8510029985407, 726.4857530817769, 746.1205031650131, 765.7552532482493, 785.3900033314856, 805.0247534147218, 824.659503497958, 844.2942535811943, 863.9290036644305, 883.563753747603, 903.1985038306444, 922.8332539136859, 942.4680039967274, 962.1027540797688, 981.7375041628103, 1001.3722542458518, 1021.0070043288931, 1040.6417544119347, 1060.276504494976, 1079.9112545780174, 1099.546004661059, 1119.1807547441003, 1138.815504827142, 1158.4502549101833, 1178.0850049932249, 1197.7197550762662, 1217.3545051593076, 1236.9892552423491, 1256.6240053253905, 1276.258755408432, 1295.8935054914734, 1315.528255574515, 1335.1630056575564, 1354.797755740598, 1374.4325058236393, 1394.0672559066807, 1413.7020059897222, 1433.3367560727636, 1452.9715061558052, 1472.6062562388465, 1492.241006321888, 1511.8757564049295, 1531.5105064879708, 1551.1452565710124, 1570.7800066540538, 1590.4147567370953, 1610.0495068201367, 1629.6842569031783, 1649.3190069862196, 1668.953757069261, 1688.5885071523026, 1708.223257235344, 1727.8580073183855, 1747.4927574014268, 1767.1275074847235, 1786.7622575681544, 1806.3970076515855, 1826.0317577350163, 1845.6665078184474, 1865.3012579018784, 1884.9360079853093, 1904.5707580687404, 1924.2055081521712, 1943.8402582356023, 1963.4750083190333, 1983.1097584024642, 2002.7445084858953, 2022.379258569326, 2042.0140086527572, 2061.648758736188, 2081.2835088196193, 2100.91825890305, 2120.553008986481, 2140.187759069912, 2159.822509153343, 2179.457259236774, 2199.092009320205, 2218.726759403636, 2238.361509487067, 2257.996259570498, 2277.6310096539287, 2297.26575973736, 2316.900509820791, 2336.5352599042217, 2356.170009987653, 2375.804760071084, 2395.4395101545147, 2415.0742602379455, 2434.709010321377, 2454.3437604048077, 2473.9785104882385, 2493.61326057167, 2513.2480106551006, 2532.8827607385315, 2552.517510821963, 2572.1522609053936, 2591.7870109888245, 2611.4217610722553, 2631.0565111556866, 2650.6912612391175, 2670.3260113225483, 2689.9607614059796, 2709.5955114894105, 2729.2302615728413, 2748.865011656272, 2768.4997617397034, 2788.1345118231343, 2807.769261906565, 2827.4040119899964, 2847.0387620734273, 2866.673512156858, 2886.308262240289, 2905.9430123237203, 2925.577762407151, 2945.212512490582, 2964.8472625740133, 2984.482012657444]\n",
      "tau_mu_sudden_asymmetric_4p=[1.013183872193854, 1.0243618285479197, inf, inf, inf, inf, inf, inf, inf, inf, inf, inf, inf, inf, inf, inf, inf, inf, inf, inf, inf, inf, inf, inf, inf, inf, inf, inf, inf, inf, inf, inf, inf, inf, inf, inf, inf, inf, inf, inf, inf, inf, inf, inf, inf, inf, inf, inf, inf, inf, inf, inf, inf, inf, inf, inf, inf, inf, inf, inf, inf, inf, inf, inf, inf, inf, inf, inf, inf, inf, inf, inf, inf, inf, inf, inf, inf, inf, inf, inf, inf, inf, inf, inf, inf, inf, inf, inf, inf, inf, inf, inf, inf, inf, inf, inf, inf, inf, inf, inf, inf, inf, inf, inf, inf, inf, inf, inf, inf, inf, inf, inf, inf, inf, inf, inf, inf, inf, inf, inf, inf, inf, inf, inf, inf, inf, inf, inf, inf, inf, inf, inf, inf, inf, inf, inf, inf, inf, inf, inf, inf, inf, inf, inf, inf, inf, inf, inf, inf, inf, inf, inf, inf]\n",
      "\n"
     ]
    }
   ],
   "source": [
    "fig, ax = plt.subplots(figsize=(10, 6))\n",
    "# ax.plot(time_seconds/mu_t, GnPos*mu_t, color='C0', label=r'$B=\\int G_{\\hat{n}>0}\\,d\\Omega$', linestyle='solid', linewidth=3)\n",
    "# ax.plot(time_seconds/mu_t, GnNeg*mu_t, color='C1', label=r'$A=\\int G_{\\hat{n}<0}\\,d\\Omega$', linestyle='solid', linewidth=3)\n",
    "\n",
    "tau_plot = np.copy(tau)\n",
    "tau_plot[np.isinf(tau_plot)] = 1000\n",
    "ax.set_ylim(bottom=0, top=50)\n",
    "\n",
    "ax.plot(time_seconds/mu_t, tau_plot/mu_t, color='C2', linestyle='solid', linewidth=3)\n",
    "ax.set_xlabel(r'$t$ ($\\mu^{-1}$)')\n",
    "ax.set_ylabel(r'$\\tau$ ($\\mu^{-1}$)')\n",
    "# ax.set_yscale('log')\n",
    "leg = ax.legend(framealpha=0.0, ncol=1, fontsize=20)\n",
    "apply_custom_settings(ax, leg, False)\n",
    "plt.savefig(\"./plots/tau_\"+directory_path.split('/')[-1]+\".pdf\", bbox_inches='tight')\n",
    "plt.show()\n",
    "plt.close(fig)\n",
    "\n",
    "print(f'time_mu_{directory_path.split(\"/\")[-1]}={list(time_seconds/mu_t)}')\n",
    "print(f'tau_mu_{directory_path.split(\"/\")[-1]}={list(tau/mu_t)}')\n",
    "print(f'')\n"
   ]
  },
  {
   "cell_type": "code",
   "execution_count": null,
   "metadata": {},
   "outputs": [],
   "source": []
  }
 ],
 "metadata": {
  "kernelspec": {
   "display_name": "Python 3",
   "language": "python",
   "name": "python3"
  },
  "language_info": {
   "codemirror_mode": {
    "name": "ipython",
    "version": 3
   },
   "file_extension": ".py",
   "mimetype": "text/x-python",
   "name": "python",
   "nbconvert_exporter": "python",
   "pygments_lexer": "ipython3",
   "version": "3.10.12"
  }
 },
 "nbformat": 4,
 "nbformat_minor": 2
}
