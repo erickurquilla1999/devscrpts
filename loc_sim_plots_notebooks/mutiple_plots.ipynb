{
 "cells": [
  {
   "cell_type": "code",
   "execution_count": null,
   "id": "8cbee801",
   "metadata": {},
   "outputs": [],
   "source": [
    "import numpy as np\n",
    "import matplotlib.pyplot as plt\n",
    "from mpl_toolkits.axes_grid1 import make_axes_locatable\n",
    "import matplotlib as mpl\n",
    "from matplotlib.ticker import AutoLocator, AutoMinorLocator, LogLocator\n",
    "import glob\n",
    "from scipy.interpolate import griddata\n",
    "from pathlib import Path\n",
    "import h5py\n",
    "import sys\n",
    "from pathlib import Path\n",
    "import os\n",
    "\n",
    "# Where am I running?\n",
    "try:\n",
    "    # Normal script\n",
    "    here = Path(__file__).resolve().parent\n",
    "except NameError:\n",
    "    # Notebook / REPL\n",
    "    here = Path.cwd()\n",
    "\n",
    "phys_const_path = (here / '..' / 'phys_const').resolve()\n",
    "sys.path.append(str(phys_const_path))\n",
    "\n",
    "nsm_plots_path = (here / '..' / 'nsm_plots').resolve()\n",
    "sys.path.append(str(nsm_plots_path))\n",
    "\n",
    "nsm_plots_postproc = (here / '..' / 'nsm_instabilities').resolve()\n",
    "sys.path.append(str(nsm_plots_postproc))\n",
    "\n",
    "import phys_const as pc\n",
    "import plot_functions as pf"
   ]
  },
  {
   "cell_type": "markdown",
   "id": "9658731b",
   "metadata": {},
   "source": [
    "# PLOT CFI GROW RATE VS ATTENUATION FACTOR"
   ]
  },
  {
   "cell_type": "code",
   "execution_count": null,
   "id": "d5d759f3",
   "metadata": {},
   "outputs": [],
   "source": [
    "att = [1e-7, 1e-6, 1e-5, 1e-4, 1e-3]\n",
    "omega_eu_im = [-1.492e+3, 6.469e3, 1.994e4, 2.072e4, 2.072e4]\n",
    "log_att = np.log10(att)\n",
    "\n",
    "coeffs = np.polyfit(log_att, omega_eu_im, 1)\n",
    "print(coeffs)\n",
    "\n",
    "fig, ax = plt.subplots(figsize=(10, 6))\n",
    "\n",
    "ax.plot(np.log10(att), omega_eu_im, linewidth=4, marker='o', markersize=12, linestyle='dotted')\n",
    "\n",
    "ax.set_xlabel(r'$\\log \\alpha$')\n",
    "ax.set_ylabel(r'$\\mathrm{Im} \\omega_{eu} \\, [\\mathrm{s}^{-1}]$')\n",
    "# leg = ax.legend(framealpha=0.0, ncol=2, fontsize=20)\n",
    "# ax.set_xlim(0,3e-8)\n",
    "# ax.set_xscale('log')\n",
    "# pf.apply_custom_settings(ax, leg, log_scale_y=False)\n",
    "plt.savefig(f\"plots/att_vs_im_omega_eu.pdf\", bbox_inches='tight')\n",
    "plt.show()\n",
    "plt.close(fig)"
   ]
  },
  {
   "cell_type": "code",
   "execution_count": null,
   "id": "edbb8914",
   "metadata": {},
   "outputs": [],
   "source": []
  }
 ],
 "metadata": {
  "kernelspec": {
   "display_name": "Python 3",
   "language": "python",
   "name": "python3"
  },
  "language_info": {
   "codemirror_mode": {
    "name": "ipython",
    "version": 3
   },
   "file_extension": ".py",
   "mimetype": "text/x-python",
   "name": "python",
   "nbconvert_exporter": "python",
   "pygments_lexer": "ipython3",
   "version": "3.10.12"
  }
 },
 "nbformat": 4,
 "nbformat_minor": 5
}
